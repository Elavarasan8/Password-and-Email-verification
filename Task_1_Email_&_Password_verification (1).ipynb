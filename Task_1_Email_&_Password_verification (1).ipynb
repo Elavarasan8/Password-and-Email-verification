{
  "nbformat": 4,
  "nbformat_minor": 0,
  "metadata": {
    "colab": {
      "name": "Task 1 Email & Password verification.ipynb",
      "provenance": [],
      "collapsed_sections": []
    },
    "kernelspec": {
      "name": "python3",
      "display_name": "Python 3"
    },
    "language_info": {
      "name": "python"
    }
  },
  "cells": [
    {
      "cell_type": "code",
      "source": [
        "import pandas as pd\n",
        "from google.colab import files\n",
        "files.upload()\n",
        "df2=pd.read_csv('/content/Users_csv.csv')\n",
        "df2"
      ],
      "metadata": {
        "id": "Tn6dJ2zbKDc-"
      },
      "execution_count": null,
      "outputs": []
    },
    {
      "cell_type": "code",
      "source": [
        "import re\n",
        "\n",
        "\n",
        "def login(df):\n",
        "  b=input('enter your emailid')\n",
        "  if b in df2.Email.values:\n",
        "    d=list(df2.Email).index(b)\n",
        "    e=df2.Password.values[d]\n",
        "    f=input('enter your password')\n",
        "    if f==e:\n",
        "       print('welcome')\n",
        "    else:\n",
        "      k=False\n",
        "      while k!=True:\n",
        "       print('incorrect password try again')\n",
        "       f=input()\n",
        "       if f==e:\n",
        "         print('welcome')\n",
        "         k=True\n",
        "  else:\n",
        "    print('invalid email')\n",
        "    main()\n",
        "\n",
        "\n",
        "def signup(df):\n",
        "  h=False\n",
        "  g=input('enter your prefered email id')\n",
        "  if g not in df.Email.values:\n",
        "        c=\"^[a-z]+@[a-z]+\\.[com|in]+\"\n",
        "        if re.fullmatch(c,g):\n",
        "              h=True\n",
        "        else:\n",
        "          while h!=True:\n",
        "            print('invalid email')\n",
        "            g=input()\n",
        "            c=\"^[a-z]+@[a-z]+\\.[com|in]+\"\n",
        "            if re.fullmatch(c,g):\n",
        "              h=True\n",
        "\n",
        "  else:\n",
        "    print('this mail has already registered try log in')\n",
        "    main()\n",
        "\n",
        "  j=False\n",
        "  while j!=True:\n",
        "      i=input('enter your password')\n",
        "      if len(i)<6 or len(i)>15:\n",
        "            print('length of he password should be greater than 5 and lesser than 16')\n",
        "      elif not re.search(\"[a-z]\",i):\n",
        "        print('password should have one lower case letter')\n",
        "      elif not re.search(\"[A-Z]\",i):\n",
        "        print('password should have one upper case letter')\n",
        "      elif not re.search(\"[0-9]\",i):\n",
        "        print('password should have one number')\n",
        "      elif not re.search(\"[!@#$%^&*]\",i):\n",
        "        print('password should have one special character')\n",
        "      else:\n",
        "        j=True\n",
        "        print('successfully signed up')\n",
        "        df3={'Email':[g],\"Password\":[i]}\n",
        "        df4=pd.DataFrame(df3)\n",
        "        df2=df4.to_csv('/content/Users_csv.csv', mode='a', index=False, header=False)\n",
        "\n",
        "def forgot_pass(df):\n",
        "  l=input('enter your email')\n",
        "  if l in df.Email.values:\n",
        "    m=list(df.Email).index(l)\n",
        "    n=df.Password.values[m]\n",
        "    print(f'your password is {n}')\n",
        "  else:\n",
        "    print('invalid email try signup')\n",
        "    main()\n",
        "\n",
        "\n",
        "def main():\n",
        "    \n",
        "    a=int(input('Enter: \\n 1 -> to login \\n 2 -> to sign up \\n 3 -> to forgot passsword'))\n",
        "    if a==1:\n",
        "       login(df2)\n",
        "    elif a==2:\n",
        "       signup(df2)\n",
        "    else:\n",
        "       forgot_pass(df2)\n",
        "\n",
        "main()\n",
        "\n",
        "\n",
        "  \n"
      ],
      "metadata": {
        "colab": {
          "base_uri": "https://localhost:8080/"
        },
        "id": "2c7XqwZ6JCnZ",
        "outputId": "a4c74a52-ca40-4e44-e6e4-1da7d1b97d12"
      },
      "execution_count": null,
      "outputs": [
        {
          "output_type": "stream",
          "name": "stdout",
          "text": [
            "Enter: \n",
            " 1 -> to login \n",
            " 2 -> to sign up \n",
            " 3 -> to forgot passsword3\n",
            "enter your emailraja@gmail.com\n",
            "invalid email try signup\n",
            "Enter: \n",
            " 1 -> to login \n",
            " 2 -> to sign up \n",
            " 3 -> to forgot passsword3\n",
            "enter your emailmat@rediff.in\n",
            "your password is Mat@12345\n"
          ]
        }
      ]
    },
    {
      "cell_type": "code",
      "source": [
        ""
      ],
      "metadata": {
        "id": "AZz1TvGdKCGh"
      },
      "execution_count": null,
      "outputs": []
    },
    {
      "cell_type": "code",
      "source": [
        ""
      ],
      "metadata": {
        "id": "nSAMBpUeHlCJ"
      },
      "execution_count": null,
      "outputs": []
    }
  ]
}