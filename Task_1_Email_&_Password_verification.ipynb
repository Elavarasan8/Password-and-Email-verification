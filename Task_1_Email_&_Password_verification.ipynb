{
  "nbformat": 4,
  "nbformat_minor": 0,
  "metadata": {
    "colab": {
      "name": "Task 1 Email & Password verification.ipynb",
      "provenance": [],
      "collapsed_sections": []
    },
    "kernelspec": {
      "name": "python3",
      "display_name": "Python 3"
    },
    "language_info": {
      "name": "python"
    }
  },
  "cells": [
    {
      "cell_type": "code",
      "execution_count": null,
      "metadata": {
        "id": "X5VgAwfPJADu"
      },
      "outputs": [],
      "source": [
        "print('Enter your email')\n",
        "d=False\n",
        "f=False\n",
        "import re\n",
        "while f!=True:\n",
        "    a=input()\n",
        "    c=\"^[a-z]+@[a-z]+\\.[com|in]+\"\n",
        "    if re.fullmatch(c,a):\n",
        "          f=True\n",
        "          while d!=True:\n",
        "               print('Enter your password')\n",
        "               print('Your password should haveminimum one special character,')\n",
        "               print('one digit,')          \n",
        "               print('one uppercase,')            \n",
        "               print('one lowercase character') \n",
        "               b=input()  \n",
        "               e=\"^(?=.*[a-z])(?=.*[A-Z])(?=.*\\d)(?=.*[@$!%*#?&])[A-Za-z\\d@$!#%*?&]{5,16}$\"\n",
        "               if re.fullmatch(e,b):\n",
        "                    d=True\n",
        "                    with open('email&password.txt',mode='w') as file:\n",
        "                      file.write(f'Email_id:{a}\\nPassword:{b}')\n",
        "               else:\n",
        "                    print('invalid password')\n",
        "    else:\n",
        "      print('Invalid email')\n",
        "\n",
        "  \n",
        "\n",
        "\n",
        "\n"
      ]
    }
  ]
}